{
 "cells": [
  {
   "cell_type": "markdown",
   "metadata": {},
   "source": [
    "## Import some needed scripts"
   ]
  },
  {
   "cell_type": "code",
   "execution_count": 3,
   "metadata": {},
   "outputs": [
    {
     "data": {
      "text/plain": [
       "<module 'ml' from 'c:\\\\Users\\\\kalyv\\\\Documents\\\\Projects\\\\ΑΠΘ\\\\Data & Web Sience\\\\Web Data Mining\\\\Project 3\\\\Twitter Bot Detection\\\\ml.py'>"
      ]
     },
     "execution_count": 3,
     "metadata": {},
     "output_type": "execute_result"
    }
   ],
   "source": [
    "from dataset import getFeaturesFromDBData, getDataFromTweeterInDB, Database\n",
    "from pandas import DataFrame\n",
    "from pprint import pprint\n",
    "import importlib\n",
    "import ml\n",
    "importlib.reload(ml)"
   ]
  },
  {
   "cell_type": "markdown",
   "metadata": {},
   "source": [
    "## Define some constants needed"
   ]
  },
  {
   "cell_type": "code",
   "execution_count": 2,
   "metadata": {},
   "outputs": [],
   "source": [
    "MONGO_DB_URI = \"mongodb://localhost:27017/?readPreference=primary&appname=MongoDB%20Compass&directConnection=true&ssl=false\"\n",
    "USER_DATASET_FILE = \"users_dataset.csv\""
   ]
  },
  {
   "cell_type": "markdown",
   "metadata": {},
   "source": [
    "## Gather data using twitter API and populate MongoDB"
   ]
  },
  {
   "cell_type": "markdown",
   "metadata": {},
   "source": [
    "We gather the data in a way to try to maintain a 50-50% of bots and humans"
   ]
  },
  {
   "cell_type": "code",
   "execution_count": null,
   "metadata": {},
   "outputs": [],
   "source": [
    "getDataFromTweeterInDB(MONGO_DB_URI,USER_DATASET_FILE)"
   ]
  },
  {
   "cell_type": "markdown",
   "metadata": {},
   "source": [
    "## Create our features dataset using the data we have in the database"
   ]
  },
  {
   "cell_type": "code",
   "execution_count": 3,
   "metadata": {},
   "outputs": [
    {
     "name": "stdout",
     "output_type": "stream",
     "text": [
      "User 21630333 (BOT) has no tweets in the database\n",
      "User 22036045 (HUMAN) has no tweets in the database\n",
      "User 22730529 (HUMAN) has no tweets in the database\n",
      "User 23220415 (BOT) has no tweets in the database\n",
      "User 23223395 (HUMAN) has no tweets in the database\n",
      "User 23222867 (BOT) has no tweets in the database\n",
      "User 23224336 (BOT) has no tweets in the database\n",
      "User 23258087 (BOT) has no tweets in the database\n",
      "User 23258968 (BOT) has no tweets in the database\n",
      "User 25070587 (HUMAN) has no tweets in the database\n",
      "User 23272942 (BOT) has no tweets in the database\n",
      "User 24221453 (BOT) has no tweets in the database\n",
      "User 31626280 (HUMAN) has no tweets in the database\n",
      "User 25008627 (BOT) has no tweets in the database\n",
      "User 25292754 (BOT) has no tweets in the database\n",
      "User 33114252 (BOT) has no tweets in the database\n",
      "User 37193429 (BOT) has no tweets in the database\n",
      "User 37967468 (BOT) has no tweets in the database\n",
      "User 43624887 (BOT) has no tweets in the database\n",
      "User 49548467 (BOT) has no tweets in the database\n",
      "User 60649090 (BOT) has no tweets in the database\n",
      "User 65192467 (BOT) has no tweets in the database\n",
      "User 78437819 (HUMAN) has no tweets in the database\n",
      "User 65937313 (BOT) has no tweets in the database\n",
      "User 78746840 (HUMAN) has no tweets in the database\n",
      "User 75709013 (BOT) has no tweets in the database\n",
      "User 77636971 (BOT) has no tweets in the database\n",
      "User 84754828 (BOT) has no tweets in the database\n",
      "User 128212714 (HUMAN) has no tweets in the database\n",
      "User 145891134 (BOT) has no tweets in the database\n",
      "User 313631223 (BOT) has no tweets in the database\n",
      "User 316787368 (BOT) has no tweets in the database\n",
      "User 317348282 (BOT) has no tweets in the database\n",
      "User 349287525 (BOT) has no tweets in the database\n",
      "User 357826558 (BOT) has no tweets in the database\n",
      "User 385096188 (BOT) has no tweets in the database\n",
      "User 455070690 (BOT) has no tweets in the database\n",
      "User 466195745 (BOT) has no tweets in the database\n",
      "User 466458490 (BOT) has no tweets in the database\n",
      "User 373449038 (HUMAN) has no tweets in the database\n",
      "User 400939896 (HUMAN) has no tweets in the database\n",
      "User 815902854 (BOT) has no tweets in the database\n",
      "User 817745161 (BOT) has no tweets in the database\n",
      "User 465375874 (HUMAN) has no tweets in the database\n",
      "User 818078893 (BOT) has no tweets in the database\n",
      "User 466225307 (HUMAN) has no tweets in the database\n",
      "User 466394064 (HUMAN) has no tweets in the database\n",
      "User 467060783 (HUMAN) has no tweets in the database\n",
      "User 467124165 (HUMAN) has no tweets in the database\n",
      "User 467177745 (HUMAN) has no tweets in the database\n",
      "User 538877096 (HUMAN) has no tweets in the database\n",
      "User 588325943 (HUMAN) has no tweets in the database\n",
      "User 21365952 (BOT) has no tweets in the database\n",
      "User 21972434 (BOT) has no tweets in the database\n",
      "User 30993019 (BOT) has no tweets in the database\n",
      "User 36299291 (BOT) has no tweets in the database\n",
      "User 46609919 (BOT) has no tweets in the database\n",
      "User 50613517 (BOT) has no tweets in the database\n",
      "User 75807122 (BOT) has no tweets in the database\n",
      "User 92525390 (BOT) has no tweets in the database\n",
      "User 95439836 (BOT) has no tweets in the database\n",
      "User 101399567 (BOT) has no tweets in the database\n",
      "User 110962110 (BOT) has no tweets in the database\n",
      "User 136277724 (BOT) has no tweets in the database\n",
      "User 141886393 (BOT) has no tweets in the database\n",
      "User 144038714 (BOT) has no tweets in the database\n",
      "User 146913214 (BOT) has no tweets in the database\n",
      "User 147107988 (BOT) has no tweets in the database\n",
      "User 147813988 (BOT) has no tweets in the database\n",
      "User 153575796 (BOT) has no tweets in the database\n",
      "User 184849544 (BOT) has no tweets in the database\n",
      "User 186690040 (BOT) has no tweets in the database\n",
      "User 197989988 (BOT) has no tweets in the database\n",
      "User 199173600 (BOT) has no tweets in the database\n",
      "User 199815995 (BOT) has no tweets in the database\n",
      "User 217230913 (BOT) has no tweets in the database\n",
      "User 221009412 (BOT) has no tweets in the database\n",
      "User 233145356 (BOT) has no tweets in the database\n",
      "User 237411569 (BOT) has no tweets in the database\n",
      "User 239732544 (BOT) has no tweets in the database\n",
      "User 249292320 (BOT) has no tweets in the database\n",
      "User 252818860 (BOT) has no tweets in the database\n",
      "User 253830036 (BOT) has no tweets in the database\n",
      "User 254059795 (BOT) has no tweets in the database\n",
      "User 254716078 (BOT) has no tweets in the database\n",
      "User 287086995 (BOT) has no tweets in the database\n",
      "User 299104372 (BOT) has no tweets in the database\n",
      "User 300344289 (BOT) has no tweets in the database\n",
      "User 303360713 (BOT) has no tweets in the database\n",
      "User 305892291 (BOT) has no tweets in the database\n",
      "User 310445390 (BOT) has no tweets in the database\n",
      "User 318156874 (BOT) has no tweets in the database\n",
      "User 322560937 (BOT) has no tweets in the database\n",
      "User 333805197 (BOT) has no tweets in the database\n",
      "User 338107834 (BOT) has no tweets in the database\n",
      "User 338873800 (BOT) has no tweets in the database\n",
      "User 349398753 (BOT) has no tweets in the database\n",
      "User 354306025 (BOT) has no tweets in the database\n",
      "User 362228315 (BOT) has no tweets in the database\n",
      "User 389134388 (BOT) has no tweets in the database\n",
      "   has_bot_word_in_descriptionbot_word_in_description  \\\n",
      "0                                                  0    \n",
      "1                                                  0    \n",
      "2                                                  0    \n",
      "3                                                  0    \n",
      "4                                                  0    \n",
      "\n",
      "   has_bot_word_in_descriptionnot_bot_word_in_description  \\\n",
      "0                                                  1        \n",
      "1                                                  1        \n",
      "2                                                  1        \n",
      "3                                                  1        \n",
      "4                                                  1        \n",
      "\n",
      "   has_bot_word_in_namebot_word_in_name  \\\n",
      "0                                     0   \n",
      "1                                     0   \n",
      "2                                     0   \n",
      "3                                     0   \n",
      "4                                     0   \n",
      "\n",
      "   has_bot_word_in_namenot_bot_word_in_name  \\\n",
      "0                                         1   \n",
      "1                                         1   \n",
      "2                                         1   \n",
      "3                                         1   \n",
      "4                                         1   \n",
      "\n",
      "   has_bot_word_in_screen_namebot_word_in_screen_name  \\\n",
      "0                                                  0    \n",
      "1                                                  0    \n",
      "2                                                  0    \n",
      "3                                                  0    \n",
      "4                                                  0    \n",
      "\n",
      "   has_bot_word_in_screen_namenot_bot_word_in_screen_name  numbers_in_name  \\\n",
      "0                                                  1                     0   \n",
      "1                                                  1                     0   \n",
      "2                                                  1                     0   \n",
      "3                                                  1                     0   \n",
      "4                                                  1                     0   \n",
      "\n",
      "   numbers_in_screen_name  user_description_length  user_followers_count  ...  \\\n",
      "0                       0                       29                   747  ...   \n",
      "1                       0                      138                  9435  ...   \n",
      "2                       0                       85                 15590  ...   \n",
      "3                       0                      158                  7393  ...   \n",
      "4                       0                       31                   317  ...   \n",
      "\n",
      "   max_min_tweets_per_daymean  max_min_tweets_per_daymedian  \\\n",
      "0                    0.715867                           0.0   \n",
      "1                   24.875000                          27.0   \n",
      "2                    4.422222                           2.0   \n",
      "3                    0.506329                           0.0   \n",
      "4                   24.428571                          25.0   \n",
      "\n",
      "   max_min_tweets_per_daystd  max_min_tweets_per_dayskew  \\\n",
      "0                   1.275835                    3.026354   \n",
      "1                  12.584092                   -0.155428   \n",
      "2                   5.057399                    1.993094   \n",
      "3                   1.024676                    3.710280   \n",
      "4                  10.808160                   -1.165525   \n",
      "\n",
      "   max_min_tweets_per_daykurtosis  max_min_tweets_per_dayentropy  \\\n",
      "0                       12.424427                       4.427690   \n",
      "1                       -0.405716                       1.926057   \n",
      "2                        4.538208                       3.265998   \n",
      "3                       22.147692                       4.602597   \n",
      "4                        0.441207                       1.798862   \n",
      "\n",
      "   max_occurence_of_same_gap  total_days  total_hours  label  \n",
      "0                          1         270   23351504.0      1  \n",
      "1                          3           6     527927.0      0  \n",
      "2                          4          44    3812163.0      1  \n",
      "3                          2         394   34125968.0      0  \n",
      "4                          4           5     516548.0      1  \n",
      "\n",
      "[5 rows x 37 columns]\n"
     ]
    }
   ],
   "source": [
    "dataset = getFeaturesFromDBData(MONGO_DB_URI)\n",
    "dataset.to_csv(\"dataset.csv\")\n",
    "dataset[\"label\"] = dataset[\"label\"].map({\"HUMAN\": 0, \"BOT\": 1}) #Map BOT label to 1 and Human label to 0\n",
    "pprint(dataset.head())"
   ]
  },
  {
   "cell_type": "markdown",
   "metadata": {},
   "source": [
    "## Train random forest model"
   ]
  },
  {
   "cell_type": "code",
   "execution_count": 4,
   "metadata": {},
   "outputs": [
    {
     "name": "stdout",
     "output_type": "stream",
     "text": [
      "{'accuracy': 0.8347222222222223,\n",
      " 'f1': 0.8297567954220315,\n",
      " 'precision': 0.8333333333333334,\n",
      " 'recall': 0.8262108262108262}\n"
     ]
    }
   ],
   "source": [
    "model, metrics = ml.randomForest(dataset)\n",
    "pprint(metrics)"
   ]
  },
  {
   "cell_type": "code",
   "execution_count": null,
   "metadata": {},
   "outputs": [],
   "source": []
  }
 ],
 "metadata": {
  "interpreter": {
   "hash": "5109d816b82be14675a6b11f8e0f0d2e80f029176ed3710d54e125caa8520dfd"
  },
  "kernelspec": {
   "display_name": "Python 3.7.4 64-bit",
   "language": "python",
   "name": "python3"
  },
  "language_info": {
   "codemirror_mode": {
    "name": "ipython",
    "version": 3
   },
   "file_extension": ".py",
   "mimetype": "text/x-python",
   "name": "python",
   "nbconvert_exporter": "python",
   "pygments_lexer": "ipython3",
   "version": "3.7.4"
  },
  "orig_nbformat": 4
 },
 "nbformat": 4,
 "nbformat_minor": 2
}
