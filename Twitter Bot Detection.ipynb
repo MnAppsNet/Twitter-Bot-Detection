{
 "cells": [
  {
   "cell_type": "markdown",
   "metadata": {},
   "source": [
    "## Import some needed scripts"
   ]
  },
  {
   "cell_type": "code",
   "execution_count": 1,
   "metadata": {},
   "outputs": [],
   "source": [
    "from database import Database\n",
    "from gatherData import getDataFromTweeter\n",
    "from ml import getFeatures\n",
    "from pandas import DataFrame\n",
    "from pprint import pprint"
   ]
  },
  {
   "cell_type": "markdown",
   "metadata": {},
   "source": [
    "## Define some constants needed"
   ]
  },
  {
   "cell_type": "code",
   "execution_count": 2,
   "metadata": {},
   "outputs": [],
   "source": [
    "MONGO_DB_URI = \"mongodb://localhost:27017/?readPreference=primary&appname=MongoDB%20Compass&directConnection=true&ssl=false\"\n",
    "USER_DATASET_FILE = \"users_dataset.csv\""
   ]
  },
  {
   "cell_type": "markdown",
   "metadata": {},
   "source": [
    "## Gather data using twitter API and populate MongoDB"
   ]
  },
  {
   "cell_type": "markdown",
   "metadata": {},
   "source": [
    "We gather the data in a way to try to maintain a 50-50% of bots and humans"
   ]
  },
  {
   "cell_type": "code",
   "execution_count": null,
   "metadata": {},
   "outputs": [],
   "source": [
    "getDataFromTweeter(MONGO_DB_URI,USER_DATASET_FILE)"
   ]
  },
  {
   "cell_type": "code",
   "execution_count": 3,
   "metadata": {},
   "outputs": [
    {
     "name": "stdout",
     "output_type": "stream",
     "text": [
      "User 21630333 (BOT) has no tweets in the database\n",
      "User 22036045 (HUMAN) has no tweets in the database\n",
      "User 22730529 (HUMAN) has no tweets in the database\n",
      "User 23220415 (BOT) has no tweets in the database\n",
      "User 23223395 (HUMAN) has no tweets in the database\n",
      "User 23222867 (BOT) has no tweets in the database\n",
      "User 23224336 (BOT) has no tweets in the database\n",
      "User 23258087 (BOT) has no tweets in the database\n",
      "User 23258968 (BOT) has no tweets in the database\n",
      "User 25070587 (HUMAN) has no tweets in the database\n",
      "User 23272942 (BOT) has no tweets in the database\n",
      "User 24221453 (BOT) has no tweets in the database\n",
      "User 31626280 (HUMAN) has no tweets in the database\n",
      "User 25008627 (BOT) has no tweets in the database\n",
      "User 25292754 (BOT) has no tweets in the database\n",
      "User 33114252 (BOT) has no tweets in the database\n",
      "User 37193429 (BOT) has no tweets in the database\n",
      "User 37967468 (BOT) has no tweets in the database\n",
      "User 43624887 (BOT) has no tweets in the database\n",
      "User 49548467 (BOT) has no tweets in the database\n",
      "User 60649090 (BOT) has no tweets in the database\n",
      "User 65192467 (BOT) has no tweets in the database\n",
      "User 78437819 (HUMAN) has no tweets in the database\n",
      "User 65937313 (BOT) has no tweets in the database\n",
      "User 78746840 (HUMAN) has no tweets in the database\n",
      "User 75709013 (BOT) has no tweets in the database\n",
      "User 77636971 (BOT) has no tweets in the database\n",
      "User 84754828 (BOT) has no tweets in the database\n",
      "User 128212714 (HUMAN) has no tweets in the database\n",
      "User 145891134 (BOT) has no tweets in the database\n",
      "User 313631223 (BOT) has no tweets in the database\n",
      "User 316787368 (BOT) has no tweets in the database\n",
      "User 317348282 (BOT) has no tweets in the database\n",
      "User 349287525 (BOT) has no tweets in the database\n",
      "User 357826558 (BOT) has no tweets in the database\n",
      "User 385096188 (BOT) has no tweets in the database\n",
      "User 455070690 (BOT) has no tweets in the database\n",
      "User 466195745 (BOT) has no tweets in the database\n",
      "User 466458490 (BOT) has no tweets in the database\n",
      "User 373449038 (HUMAN) has no tweets in the database\n",
      "User 400939896 (HUMAN) has no tweets in the database\n",
      "User 815902854 (BOT) has no tweets in the database\n",
      "User 817745161 (BOT) has no tweets in the database\n",
      "User 465375874 (HUMAN) has no tweets in the database\n",
      "User 818078893 (BOT) has no tweets in the database\n",
      "User 466225307 (HUMAN) has no tweets in the database\n",
      "User 466394064 (HUMAN) has no tweets in the database\n",
      "User 467060783 (HUMAN) has no tweets in the database\n",
      "User 467124165 (HUMAN) has no tweets in the database\n",
      "User 467177745 (HUMAN) has no tweets in the database\n",
      "User 538877096 (HUMAN) has no tweets in the database\n",
      "User 588325943 (HUMAN) has no tweets in the database\n",
      "User 21365952 (BOT) has no tweets in the database\n",
      "User 21972434 (BOT) has no tweets in the database\n",
      "User 30993019 (BOT) has no tweets in the database\n",
      "User 36299291 (BOT) has no tweets in the database\n",
      "User 46609919 (BOT) has no tweets in the database\n",
      "User 50613517 (BOT) has no tweets in the database\n",
      "User 75807122 (BOT) has no tweets in the database\n",
      "User 92525390 (BOT) has no tweets in the database\n",
      "User 95439836 (BOT) has no tweets in the database\n",
      "User 101399567 (BOT) has no tweets in the database\n",
      "User 110962110 (BOT) has no tweets in the database\n",
      "User 136277724 (BOT) has no tweets in the database\n",
      "User 141886393 (BOT) has no tweets in the database\n",
      "User 144038714 (BOT) has no tweets in the database\n",
      "User 146913214 (BOT) has no tweets in the database\n",
      "User 147107988 (BOT) has no tweets in the database\n",
      "User 147813988 (BOT) has no tweets in the database\n",
      "User 153575796 (BOT) has no tweets in the database\n",
      "User 184849544 (BOT) has no tweets in the database\n",
      "User 186690040 (BOT) has no tweets in the database\n",
      "User 197989988 (BOT) has no tweets in the database\n",
      "User 199173600 (BOT) has no tweets in the database\n",
      "User 199815995 (BOT) has no tweets in the database\n",
      "User 217230913 (BOT) has no tweets in the database\n",
      "User 221009412 (BOT) has no tweets in the database\n",
      "User 233145356 (BOT) has no tweets in the database\n",
      "User 237411569 (BOT) has no tweets in the database\n",
      "User 239732544 (BOT) has no tweets in the database\n",
      "User 249292320 (BOT) has no tweets in the database\n",
      "User 252818860 (BOT) has no tweets in the database\n",
      "User 253830036 (BOT) has no tweets in the database\n",
      "User 254059795 (BOT) has no tweets in the database\n",
      "User 254716078 (BOT) has no tweets in the database\n",
      "User 287086995 (BOT) has no tweets in the database\n",
      "User 299104372 (BOT) has no tweets in the database\n",
      "User 300344289 (BOT) has no tweets in the database\n",
      "User 303360713 (BOT) has no tweets in the database\n",
      "User 305892291 (BOT) has no tweets in the database\n",
      "User 310445390 (BOT) has no tweets in the database\n",
      "User 318156874 (BOT) has no tweets in the database\n",
      "User 322560937 (BOT) has no tweets in the database\n",
      "User 333805197 (BOT) has no tweets in the database\n",
      "User 338107834 (BOT) has no tweets in the database\n",
      "User 338873800 (BOT) has no tweets in the database\n",
      "User 349398753 (BOT) has no tweets in the database\n",
      "User 354306025 (BOT) has no tweets in the database\n",
      "User 362228315 (BOT) has no tweets in the database\n",
      "User 389134388 (BOT) has no tweets in the database\n"
     ]
    },
    {
     "ename": "TypeError",
     "evalue": "'module' object is not callable",
     "output_type": "error",
     "traceback": [
      "\u001b[1;31m---------------------------------------------------------------------------\u001b[0m",
      "\u001b[1;31mTypeError\u001b[0m                                 Traceback (most recent call last)",
      "\u001b[1;32m~\\AppData\\Local\\Temp\\ipykernel_28752\\1940621365.py\u001b[0m in \u001b[0;36m<module>\u001b[1;34m\u001b[0m\n\u001b[0;32m      1\u001b[0m \u001b[0mdataset\u001b[0m \u001b[1;33m=\u001b[0m \u001b[0mgetFeatures\u001b[0m\u001b[1;33m(\u001b[0m\u001b[0mMONGO_DB_URI\u001b[0m\u001b[1;33m)\u001b[0m\u001b[1;33m\u001b[0m\u001b[1;33m\u001b[0m\u001b[0m\n\u001b[1;32m----> 2\u001b[1;33m \u001b[0mpprint\u001b[0m\u001b[1;33m(\u001b[0m\u001b[0mdataset\u001b[0m\u001b[1;33m.\u001b[0m\u001b[0mhead\u001b[0m\u001b[1;33m(\u001b[0m\u001b[1;33m)\u001b[0m\u001b[1;33m)\u001b[0m\u001b[1;33m\u001b[0m\u001b[1;33m\u001b[0m\u001b[0m\n\u001b[0m\u001b[0;32m      3\u001b[0m \u001b[0mdataset\u001b[0m\u001b[1;33m.\u001b[0m\u001b[0mto_csv\u001b[0m\u001b[1;33m(\u001b[0m\u001b[1;34m\"dataset.csv\"\u001b[0m\u001b[1;33m)\u001b[0m\u001b[1;33m\u001b[0m\u001b[1;33m\u001b[0m\u001b[0m\n",
      "\u001b[1;31mTypeError\u001b[0m: 'module' object is not callable"
     ]
    }
   ],
   "source": [
    "dataset = getFeatures(MONGO_DB_URI)\n",
    "dataset.to_csv(\"dataset.csv\")\n",
    "pprint(dataset.head())"
   ]
  },
  {
   "cell_type": "code",
   "execution_count": null,
   "metadata": {},
   "outputs": [],
   "source": []
  }
 ],
 "metadata": {
  "interpreter": {
   "hash": "1eb71e714c2a1bbfc91d3a1ed02399b846367c62fca82a5b3a9325d7b60709de"
  },
  "kernelspec": {
   "display_name": "Python 3.9.0 64-bit",
   "language": "python",
   "name": "python3"
  },
  "language_info": {
   "codemirror_mode": {
    "name": "ipython",
    "version": 3
   },
   "file_extension": ".py",
   "mimetype": "text/x-python",
   "name": "python",
   "nbconvert_exporter": "python",
   "pygments_lexer": "ipython3",
   "version": "3.9.0"
  },
  "orig_nbformat": 4
 },
 "nbformat": 4,
 "nbformat_minor": 2
}
