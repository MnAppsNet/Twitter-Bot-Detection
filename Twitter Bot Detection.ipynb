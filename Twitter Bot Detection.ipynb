{
 "cells": [
  {
   "cell_type": "markdown",
   "metadata": {},
   "source": [
    "## Import some needed scripts"
   ]
  },
  {
   "cell_type": "code",
   "execution_count": 1,
   "metadata": {},
   "outputs": [
    {
     "ename": "ModuleNotFoundError",
     "evalue": "No module named 'requests_oauthlib'",
     "output_type": "error",
     "traceback": [
      "\u001b[1;31m---------------------------------------------------------------------------\u001b[0m",
      "\u001b[1;31mModuleNotFoundError\u001b[0m                       Traceback (most recent call last)",
      "\u001b[1;32m<ipython-input-1-499649151c51>\u001b[0m in \u001b[0;36m<module>\u001b[1;34m\u001b[0m\n\u001b[1;32m----> 1\u001b[1;33m \u001b[1;32mfrom\u001b[0m \u001b[0mdataset\u001b[0m \u001b[1;32mimport\u001b[0m \u001b[0mgetFeaturesFromDBData\u001b[0m\u001b[1;33m,\u001b[0m \u001b[0mgetDataFromTweeterInDB\u001b[0m\u001b[1;33m,\u001b[0m \u001b[0mDatabase\u001b[0m\u001b[1;33m\u001b[0m\u001b[1;33m\u001b[0m\u001b[0m\n\u001b[0m\u001b[0;32m      2\u001b[0m \u001b[1;32mfrom\u001b[0m \u001b[0mpandas\u001b[0m \u001b[1;32mimport\u001b[0m \u001b[0mDataFrame\u001b[0m\u001b[1;33m\u001b[0m\u001b[1;33m\u001b[0m\u001b[0m\n\u001b[0;32m      3\u001b[0m \u001b[1;32mfrom\u001b[0m \u001b[0mpprint\u001b[0m \u001b[1;32mimport\u001b[0m \u001b[0mpprint\u001b[0m\u001b[1;33m\u001b[0m\u001b[1;33m\u001b[0m\u001b[0m\n\u001b[0;32m      4\u001b[0m \u001b[1;32mimport\u001b[0m \u001b[0mimportlib\u001b[0m\u001b[1;33m\u001b[0m\u001b[1;33m\u001b[0m\u001b[0m\n\u001b[0;32m      5\u001b[0m \u001b[1;32mimport\u001b[0m \u001b[0mml\u001b[0m\u001b[1;33m\u001b[0m\u001b[1;33m\u001b[0m\u001b[0m\n",
      "\u001b[1;32md:\\Program Files (x86)\\Twitter-Bot-Detection\\dataset.py\u001b[0m in \u001b[0;36m<module>\u001b[1;34m\u001b[0m\n\u001b[0;32m      2\u001b[0m \u001b[1;32mfrom\u001b[0m \u001b[0mpandas\u001b[0m \u001b[1;32mimport\u001b[0m \u001b[0mDataFrame\u001b[0m\u001b[1;33m,\u001b[0m \u001b[0mconcat\u001b[0m\u001b[1;33m\u001b[0m\u001b[1;33m\u001b[0m\u001b[0m\n\u001b[0;32m      3\u001b[0m \u001b[1;32mfrom\u001b[0m \u001b[0mfeatures\u001b[0m\u001b[1;33m.\u001b[0m\u001b[0mfeatures\u001b[0m \u001b[1;32mimport\u001b[0m \u001b[0mFeatures\u001b[0m\u001b[1;33m\u001b[0m\u001b[1;33m\u001b[0m\u001b[0m\n\u001b[1;32m----> 4\u001b[1;33m \u001b[1;32mimport\u001b[0m \u001b[0mtweepy\u001b[0m\u001b[1;33m,\u001b[0m \u001b[0mjson\u001b[0m\u001b[1;33m\u001b[0m\u001b[1;33m\u001b[0m\u001b[0m\n\u001b[0m\u001b[0;32m      5\u001b[0m \u001b[1;33m\u001b[0m\u001b[0m\n\u001b[0;32m      6\u001b[0m \u001b[1;32mdef\u001b[0m \u001b[0mgetFeaturesFromDBData\u001b[0m\u001b[1;33m(\u001b[0m\u001b[0mmongo_db_uri\u001b[0m\u001b[1;33m)\u001b[0m\u001b[1;33m:\u001b[0m\u001b[1;33m\u001b[0m\u001b[1;33m\u001b[0m\u001b[0m\n",
      "\u001b[1;32md:\\ProgramData\\Anaconda3\\lib\\site-packages\\tweepy\\__init__.py\u001b[0m in \u001b[0;36m<module>\u001b[1;34m\u001b[0m\n\u001b[0;32m     11\u001b[0m \u001b[1;33m\u001b[0m\u001b[0m\n\u001b[0;32m     12\u001b[0m \u001b[1;32mfrom\u001b[0m \u001b[0mtweepy\u001b[0m\u001b[1;33m.\u001b[0m\u001b[0mapi\u001b[0m \u001b[1;32mimport\u001b[0m \u001b[0mAPI\u001b[0m\u001b[1;33m\u001b[0m\u001b[1;33m\u001b[0m\u001b[0m\n\u001b[1;32m---> 13\u001b[1;33m from tweepy.auth import (\n\u001b[0m\u001b[0;32m     14\u001b[0m     \u001b[0mAppAuthHandler\u001b[0m\u001b[1;33m,\u001b[0m \u001b[0mOAuthHandler\u001b[0m\u001b[1;33m,\u001b[0m \u001b[0mOAuth1UserHandler\u001b[0m\u001b[1;33m,\u001b[0m \u001b[0mOAuth2AppHandler\u001b[0m\u001b[1;33m,\u001b[0m\u001b[1;33m\u001b[0m\u001b[1;33m\u001b[0m\u001b[0m\n\u001b[0;32m     15\u001b[0m     \u001b[0mOAuth2BearerHandler\u001b[0m\u001b[1;33m,\u001b[0m \u001b[0mOAuth2UserHandler\u001b[0m\u001b[1;33m\u001b[0m\u001b[1;33m\u001b[0m\u001b[0m\n",
      "\u001b[1;32md:\\ProgramData\\Anaconda3\\lib\\site-packages\\tweepy\\auth.py\u001b[0m in \u001b[0;36m<module>\u001b[1;34m\u001b[0m\n\u001b[0;32m      8\u001b[0m \u001b[1;32mimport\u001b[0m \u001b[0mrequests\u001b[0m\u001b[1;33m\u001b[0m\u001b[1;33m\u001b[0m\u001b[0m\n\u001b[0;32m      9\u001b[0m \u001b[1;32mfrom\u001b[0m \u001b[0mrequests\u001b[0m\u001b[1;33m.\u001b[0m\u001b[0mauth\u001b[0m \u001b[1;32mimport\u001b[0m \u001b[0mAuthBase\u001b[0m\u001b[1;33m,\u001b[0m \u001b[0mHTTPBasicAuth\u001b[0m\u001b[1;33m\u001b[0m\u001b[1;33m\u001b[0m\u001b[0m\n\u001b[1;32m---> 10\u001b[1;33m \u001b[1;32mfrom\u001b[0m \u001b[0mrequests_oauthlib\u001b[0m \u001b[1;32mimport\u001b[0m \u001b[0mOAuth1\u001b[0m\u001b[1;33m,\u001b[0m \u001b[0mOAuth1Session\u001b[0m\u001b[1;33m,\u001b[0m \u001b[0mOAuth2Session\u001b[0m\u001b[1;33m\u001b[0m\u001b[1;33m\u001b[0m\u001b[0m\n\u001b[0m\u001b[0;32m     11\u001b[0m \u001b[1;33m\u001b[0m\u001b[0m\n\u001b[0;32m     12\u001b[0m \u001b[1;32mfrom\u001b[0m \u001b[0mtweepy\u001b[0m\u001b[1;33m.\u001b[0m\u001b[0merrors\u001b[0m \u001b[1;32mimport\u001b[0m \u001b[0mTweepyException\u001b[0m\u001b[1;33m\u001b[0m\u001b[1;33m\u001b[0m\u001b[0m\n",
      "\u001b[1;31mModuleNotFoundError\u001b[0m: No module named 'requests_oauthlib'"
     ]
    }
   ],
   "source": [
    "from dataset import getFeaturesFromDBData, getDataFromTweeterInDB, Database\n",
    "from pandas import DataFrame\n",
    "from pprint import pprint\n",
    "import importlib\n",
    "import ml\n",
    "importlib.reload(ml)"
   ]
  },
  {
   "cell_type": "markdown",
   "metadata": {},
   "source": [
    "## Define some constants needed"
   ]
  },
  {
   "cell_type": "code",
   "execution_count": 2,
   "metadata": {},
   "outputs": [],
   "source": [
    "MONGO_DB_URI = \"mongodb://localhost:27017/?readPreference=primary&appname=MongoDB%20Compass&directConnection=true&ssl=false\"\n",
    "USER_DATASET_FILE = \"users_dataset.csv\""
   ]
  },
  {
   "cell_type": "markdown",
   "metadata": {},
   "source": [
    "## Gather data using twitter API and populate MongoDB"
   ]
  },
  {
   "cell_type": "markdown",
   "metadata": {},
   "source": [
    "We gather the data in a way to try to maintain a 50-50% of bots and humans"
   ]
  },
  {
   "cell_type": "code",
   "execution_count": null,
   "metadata": {},
   "outputs": [],
   "source": [
    "getDataFromTweeterInDB(MONGO_DB_URI,USER_DATASET_FILE)"
   ]
  },
  {
   "cell_type": "markdown",
   "metadata": {},
   "source": [
    "## Create our features dataset using the data we have in the database"
   ]
  },
  {
   "cell_type": "code",
   "execution_count": 3,
   "metadata": {},
   "outputs": [
    {
     "name": "stdout",
     "output_type": "stream",
     "text": [
      "User 21630333 (BOT) has no tweets in the database\n",
      "User 22036045 (HUMAN) has no tweets in the database\n",
      "User 22730529 (HUMAN) has no tweets in the database\n",
      "User 23220415 (BOT) has no tweets in the database\n",
      "User 23223395 (HUMAN) has no tweets in the database\n",
      "User 23222867 (BOT) has no tweets in the database\n",
      "User 23224336 (BOT) has no tweets in the database\n",
      "User 23258087 (BOT) has no tweets in the database\n",
      "User 23258968 (BOT) has no tweets in the database\n",
      "User 25070587 (HUMAN) has no tweets in the database\n",
      "User 23272942 (BOT) has no tweets in the database\n",
      "User 24221453 (BOT) has no tweets in the database\n",
      "User 31626280 (HUMAN) has no tweets in the database\n",
      "User 25008627 (BOT) has no tweets in the database\n",
      "User 25292754 (BOT) has no tweets in the database\n",
      "User 33114252 (BOT) has no tweets in the database\n",
      "User 37193429 (BOT) has no tweets in the database\n",
      "User 37967468 (BOT) has no tweets in the database\n",
      "User 43624887 (BOT) has no tweets in the database\n",
      "User 49548467 (BOT) has no tweets in the database\n",
      "User 60649090 (BOT) has no tweets in the database\n",
      "User 65192467 (BOT) has no tweets in the database\n",
      "User 78437819 (HUMAN) has no tweets in the database\n",
      "User 65937313 (BOT) has no tweets in the database\n",
      "User 78746840 (HUMAN) has no tweets in the database\n",
      "User 75709013 (BOT) has no tweets in the database\n",
      "User 77636971 (BOT) has no tweets in the database\n",
      "User 84754828 (BOT) has no tweets in the database\n",
      "User 128212714 (HUMAN) has no tweets in the database\n",
      "User 145891134 (BOT) has no tweets in the database\n",
      "User 313631223 (BOT) has no tweets in the database\n",
      "User 316787368 (BOT) has no tweets in the database\n",
      "User 317348282 (BOT) has no tweets in the database\n",
      "User 349287525 (BOT) has no tweets in the database\n",
      "User 357826558 (BOT) has no tweets in the database\n",
      "User 385096188 (BOT) has no tweets in the database\n",
      "User 455070690 (BOT) has no tweets in the database\n",
      "User 466195745 (BOT) has no tweets in the database\n",
      "User 466458490 (BOT) has no tweets in the database\n",
      "User 373449038 (HUMAN) has no tweets in the database\n",
      "User 400939896 (HUMAN) has no tweets in the database\n",
      "User 815902854 (BOT) has no tweets in the database\n",
      "User 817745161 (BOT) has no tweets in the database\n",
      "User 465375874 (HUMAN) has no tweets in the database\n",
      "User 818078893 (BOT) has no tweets in the database\n",
      "User 466225307 (HUMAN) has no tweets in the database\n",
      "User 466394064 (HUMAN) has no tweets in the database\n",
      "User 467060783 (HUMAN) has no tweets in the database\n",
      "User 467124165 (HUMAN) has no tweets in the database\n",
      "User 467177745 (HUMAN) has no tweets in the database\n",
      "User 538877096 (HUMAN) has no tweets in the database\n",
      "User 588325943 (HUMAN) has no tweets in the database\n",
      "User 21365952 (BOT) has no tweets in the database\n",
      "User 21972434 (BOT) has no tweets in the database\n",
      "User 30993019 (BOT) has no tweets in the database\n",
      "User 36299291 (BOT) has no tweets in the database\n",
      "User 46609919 (BOT) has no tweets in the database\n",
      "User 50613517 (BOT) has no tweets in the database\n",
      "User 75807122 (BOT) has no tweets in the database\n",
      "User 92525390 (BOT) has no tweets in the database\n",
      "User 95439836 (BOT) has no tweets in the database\n",
      "User 101399567 (BOT) has no tweets in the database\n",
      "User 110962110 (BOT) has no tweets in the database\n",
      "User 136277724 (BOT) has no tweets in the database\n",
      "User 141886393 (BOT) has no tweets in the database\n",
      "User 144038714 (BOT) has no tweets in the database\n",
      "User 146913214 (BOT) has no tweets in the database\n",
      "User 147107988 (BOT) has no tweets in the database\n",
      "User 147813988 (BOT) has no tweets in the database\n",
      "User 153575796 (BOT) has no tweets in the database\n",
      "User 184849544 (BOT) has no tweets in the database\n",
      "User 186690040 (BOT) has no tweets in the database\n",
      "User 197989988 (BOT) has no tweets in the database\n",
      "User 199173600 (BOT) has no tweets in the database\n",
      "User 199815995 (BOT) has no tweets in the database\n",
      "User 217230913 (BOT) has no tweets in the database\n",
      "User 221009412 (BOT) has no tweets in the database\n",
      "User 233145356 (BOT) has no tweets in the database\n",
      "User 237411569 (BOT) has no tweets in the database\n",
      "User 239732544 (BOT) has no tweets in the database\n",
      "User 249292320 (BOT) has no tweets in the database\n",
      "User 252818860 (BOT) has no tweets in the database\n",
      "User 253830036 (BOT) has no tweets in the database\n",
      "User 254059795 (BOT) has no tweets in the database\n",
      "User 254716078 (BOT) has no tweets in the database\n",
      "User 287086995 (BOT) has no tweets in the database\n",
      "User 299104372 (BOT) has no tweets in the database\n",
      "User 300344289 (BOT) has no tweets in the database\n",
      "User 303360713 (BOT) has no tweets in the database\n",
      "User 305892291 (BOT) has no tweets in the database\n",
      "User 310445390 (BOT) has no tweets in the database\n",
      "User 318156874 (BOT) has no tweets in the database\n",
      "User 322560937 (BOT) has no tweets in the database\n",
      "User 333805197 (BOT) has no tweets in the database\n",
      "User 338107834 (BOT) has no tweets in the database\n",
      "User 338873800 (BOT) has no tweets in the database\n",
      "User 349398753 (BOT) has no tweets in the database\n",
      "User 354306025 (BOT) has no tweets in the database\n",
      "User 362228315 (BOT) has no tweets in the database\n",
      "User 389134388 (BOT) has no tweets in the database\n",
      "   has_bot_word_in_descriptionbot_word_in_description  \\\n",
      "0                                                  0    \n",
      "1                                                  0    \n",
      "2                                                  0    \n",
      "3                                                  0    \n",
      "4                                                  0    \n",
      "\n",
      "   has_bot_word_in_descriptionnot_bot_word_in_description  \\\n",
      "0                                                  1        \n",
      "1                                                  1        \n",
      "2                                                  1        \n",
      "3                                                  1        \n",
      "4                                                  1        \n",
      "\n",
      "   has_bot_word_in_namebot_word_in_name  \\\n",
      "0                                     0   \n",
      "1                                     0   \n",
      "2                                     0   \n",
      "3                                     0   \n",
      "4                                     0   \n",
      "\n",
      "   has_bot_word_in_namenot_bot_word_in_name  \\\n",
      "0                                         1   \n",
      "1                                         1   \n",
      "2                                         1   \n",
      "3                                         1   \n",
      "4                                         1   \n",
      "\n",
      "   has_bot_word_in_screen_namebot_word_in_screen_name  \\\n",
      "0                                                  0    \n",
      "1                                                  0    \n",
      "2                                                  0    \n",
      "3                                                  0    \n",
      "4                                                  0    \n",
      "\n",
      "   has_bot_word_in_screen_namenot_bot_word_in_screen_name  numbers_in_name  \\\n",
      "0                                                  1                     0   \n",
      "1                                                  1                     0   \n",
      "2                                                  1                     0   \n",
      "3                                                  1                     0   \n",
      "4                                                  1                     0   \n",
      "\n",
      "   numbers_in_screen_name  user_description_length  user_followers_count  ...  \\\n",
      "0                       0                       29                   747  ...   \n",
      "1                       0                      138                  9435  ...   \n",
      "2                       0                       85                 15590  ...   \n",
      "3                       0                      158                  7393  ...   \n",
      "4                       0                       31                   317  ...   \n",
      "\n",
      "   max_min_tweets_per_daymean  max_min_tweets_per_daymedian  \\\n",
      "0                    0.715867                           0.0   \n",
      "1                   24.875000                          27.0   \n",
      "2                    4.422222                           2.0   \n",
      "3                    0.506329                           0.0   \n",
      "4                   24.428571                          25.0   \n",
      "\n",
      "   max_min_tweets_per_daystd  max_min_tweets_per_dayskew  \\\n",
      "0                   1.275835                    3.026354   \n",
      "1                  12.584092                   -0.155428   \n",
      "2                   5.057399                    1.993094   \n",
      "3                   1.024676                    3.710280   \n",
      "4                  10.808160                   -1.165525   \n",
      "\n",
      "   max_min_tweets_per_daykurtosis  max_min_tweets_per_dayentropy  \\\n",
      "0                       12.424427                       4.427690   \n",
      "1                       -0.405716                       1.926057   \n",
      "2                        4.538208                       3.265998   \n",
      "3                       22.147692                       4.602597   \n",
      "4                        0.441207                       1.798862   \n",
      "\n",
      "   max_occurence_of_same_gap  total_days  total_hours  label  \n",
      "0                          1         270   23351504.0      1  \n",
      "1                          3           6     527927.0      0  \n",
      "2                          4          44    3812163.0      1  \n",
      "3                          2         394   34125968.0      0  \n",
      "4                          4           5     516548.0      1  \n",
      "\n",
      "[5 rows x 37 columns]\n"
     ]
    }
   ],
   "source": [
    "dataset = getFeaturesFromDBData(MONGO_DB_URI)\n",
    "dataset.to_csv(\"dataset.csv\")\n",
    "dataset[\"label\"] = dataset[\"label\"].map({\"HUMAN\": 0, \"BOT\": 1}) #Map BOT label to 1 and Human label to 0\n",
    "pprint(dataset.head())"
   ]
  },
  {
   "cell_type": "markdown",
   "metadata": {},
   "source": [
    "## Train random forest model"
   ]
  },
  {
   "cell_type": "code",
   "execution_count": 1,
   "metadata": {},
   "outputs": [
    {
     "ename": "NameError",
     "evalue": "name 'ml' is not defined",
     "output_type": "error",
     "traceback": [
      "\u001b[1;31m---------------------------------------------------------------------------\u001b[0m",
      "\u001b[1;31mNameError\u001b[0m                                 Traceback (most recent call last)",
      "\u001b[1;32md:\\Program Files (x86)\\Twitter-Bot-Detection\\Twitter Bot Detection.ipynb Cell 11'\u001b[0m in \u001b[0;36m<cell line: 1>\u001b[1;34m()\u001b[0m\n\u001b[1;32m----> <a href='vscode-notebook-cell:/d%3A/Program%20Files%20%28x86%29/Twitter-Bot-Detection/Twitter%20Bot%20Detection.ipynb#ch0000010?line=0'>1</a>\u001b[0m model, metrics \u001b[39m=\u001b[39m ml\u001b[39m.\u001b[39mrandomForest(dataset)\n\u001b[0;32m      <a href='vscode-notebook-cell:/d%3A/Program%20Files%20%28x86%29/Twitter-Bot-Detection/Twitter%20Bot%20Detection.ipynb#ch0000010?line=1'>2</a>\u001b[0m pprint(metrics)\n",
      "\u001b[1;31mNameError\u001b[0m: name 'ml' is not defined"
     ]
    }
   ],
   "source": [
    "model, metrics = ml.randomForest(dataset)\n",
    "pprint(metrics)"
   ]
  },
  {
   "cell_type": "code",
   "execution_count": null,
   "metadata": {},
   "outputs": [],
   "source": [
    "performance = ml.random_models(dataset)\n",
    "pprint(performance)"
   ]
  }
 ],
 "metadata": {
  "interpreter": {
   "hash": "e42634819b8c191a5d07eaf23810ff32516dd8d3875f28ec3e488928fbd3c187"
  },
  "kernelspec": {
   "display_name": "Python 3.8.3 ('base')",
   "language": "python",
   "name": "python3"
  },
  "language_info": {
   "codemirror_mode": {
    "name": "ipython",
    "version": 3
   },
   "file_extension": ".py",
   "mimetype": "text/x-python",
   "name": "python",
   "nbconvert_exporter": "python",
   "pygments_lexer": "ipython3",
   "version": "3.8.3"
  },
  "orig_nbformat": 4
 },
 "nbformat": 4,
 "nbformat_minor": 2
}
